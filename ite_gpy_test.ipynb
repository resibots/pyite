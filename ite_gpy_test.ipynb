{
 "cells": [
  {
   "cell_type": "markdown",
   "metadata": {},
   "source": [
    "# ITE GPy testing\n",
    "\n",
    "First start by defining function to load the data created by py_map_elites and define ITE constants\n",
    "\n",
    "Put the right controller dimension and behavior dimension (dim_ctrl, dim_x)\n"
   ]
  },
  {
   "cell_type": "code",
   "execution_count": 1,
   "metadata": {},
   "outputs": [],
   "source": [
    "from copy import *\n",
    "from math import *\n",
    "import numpy as np\n",
    "import sys\n",
    "import GPy as GPy\n",
    "\n",
    "#Load the CVT voronoi centroids from input archive\n",
    "def load_centroids(filename):\n",
    "\tpoints = np.loadtxt(filename)\n",
    "\treturn points\n",
    "#Load map data from archive\n",
    "def load_data(filename, dim,dim_ctrl):\n",
    "\tprint(\"Loading \",filename)\n",
    "\tdata = np.loadtxt(filename)\n",
    "\tfit = data[:, 0:1]\n",
    "\tdesc = data[:,1: dim+1]\n",
    "\tx = data[:,dim+1:dim+1+dim_ctrl]\n",
    "\treturn fit, desc, x\n",
    "\n",
    "############### ITE CONSTANTS ######################################################\n",
    "alpha = 0.9\n",
    "kappa = 0.03\n",
    "rho = 0.4\n",
    "variance_noise_square = 0.001\n",
    "dim_ctrl = 24 #ctrl dimension\n",
    "dim_x = 16 #descriptor dimension\n",
    "episode_duration = 10\n",
    "random = 0 #Put this to 1 to use random strategy instead of ITE\n"
   ]
  },
  {
   "cell_type": "markdown",
   "metadata": {},
   "source": [
    "Now parse the maps info, don't forget to put the right path for the centroids and archive files."
   ]
  },
  {
   "cell_type": "code",
   "execution_count": 2,
   "metadata": {},
   "outputs": [
    {
     "name": "stdout",
     "output_type": "stream",
     "text": [
      "Loading  /home/eloise/MAPS/learn_minitaur/current30_xy14_2/1/archive_20000.dat\n",
      "Max in the map :  [4.55414197]\n",
      "Associated ctrl index :  129\n"
     ]
    }
   ],
   "source": [
    "################# PARSE INFO TO GET THE MAP ########################################\n",
    "centroids = load_centroids(\"/home/eloise/MAPS/learn_minitaur/current30_xy14_2/1/centroids_40000_16.dat\")\n",
    "fits, descs, ctrls = load_data(\"/home/eloise/MAPS/learn_minitaur/current30_xy14_2/1/archive_20000.dat\", centroids.shape[1],dim_ctrl)\n",
    "n_fits = []\n",
    "n_descs = []\n",
    "n_ctrls = []\n",
    "\n",
    "for i in range(0,len(fits)):\n",
    "    #if(fits[i]>1):\n",
    "    if(1):\n",
    "        n_fits.append(fits[i])\n",
    "        n_descs.append(descs[i])\n",
    "        n_ctrls.append(ctrls[i])\n",
    "n_fits = np.array(n_fits)\n",
    "n_descs = np.array(n_descs)\n",
    "n_ctrls = np.array(n_ctrls)\n",
    "\n",
    "n_fits_real = np.array(n_fits)\n",
    "n_descs_real = np.array(n_descs)\n",
    "n_ctrls_real = np.array(n_ctrls)\n",
    "\n",
    "fits_saved = copy(n_fits)\n",
    "\n",
    "print (\"Max in the map : \", max(n_fits))\n",
    "print(\"Associated ctrl index : \", np.argmax(n_fits))\n",
    "\n"
   ]
  },
  {
   "cell_type": "markdown",
   "metadata": {},
   "source": [
    "Now gather data for the GP. \n",
    "\n",
    "X will be the descriptor to test.\n",
    "\n",
    "We start by the descriptor associated with the max fitness found in the map.\n",
    "\n",
    "Y will be the fitness difference between the simulation and testing environment. Here we use a random diff"
   ]
  },
  {
   "cell_type": "code",
   "execution_count": 3,
   "metadata": {},
   "outputs": [
    {
     "name": "stdout",
     "output_type": "stream",
     "text": [
      "[[0.43381277 0.55927822 0.76736456 0.33795371 0.38497982 0.68528519\n",
      "  0.30302539 0.57688192 0.04922116 0.75057151 0.79550695 1.\n",
      "  0.67530292 0.86127359 0.58909014 0.91480904]]\n",
      "[[-2.32947412]]\n"
     ]
    }
   ],
   "source": [
    "global X,Y\n",
    "X= []\n",
    "Y= []\n",
    "\n",
    "for i in range(0,1):\n",
    "    index =  np.random.randint(0,len(fits_saved))\n",
    "    X.append(n_descs[index])\n",
    "    Y.append(-np.random.rand(1)*3-0.5)\n",
    "X = np.array(X)\n",
    "Y = np.array(Y)\n",
    "print(X)\n",
    "print(Y)"
   ]
  },
  {
   "cell_type": "markdown",
   "metadata": {},
   "source": [
    "Define the GP with a Matern52 kernel, the same lenghtscale is used for every descriptor dimension"
   ]
  },
  {
   "cell_type": "code",
   "execution_count": 4,
   "metadata": {},
   "outputs": [],
   "source": [
    "ker = GPy.kern.Matern52(dim_x,lengthscale = rho, ARD=False) + GPy.kern.White(dim_x,np.sqrt(variance_noise_square))\n",
    "m = GPy.models.GPRegression(X,Y,ker)\n"
   ]
  },
  {
   "cell_type": "markdown",
   "metadata": {},
   "source": [
    "Now that the GP is defined we can predict the GP output (difference between the simulation and testing environement)"
   ]
  },
  {
   "cell_type": "code",
   "execution_count": 5,
   "metadata": {},
   "outputs": [
    {
     "name": "stdout",
     "output_type": "stream",
     "text": [
      "[[-0.00224649]\n",
      " [-0.01467458]\n",
      " [-0.00201707]\n",
      " ...\n",
      " [-0.00430657]\n",
      " [-0.00297083]\n",
      " [-0.01875259]]\n"
     ]
    }
   ],
   "source": [
    "means, variances = m.predict(n_descs) #GP prediction over the descriptors\n",
    "print(means)"
   ]
  },
  {
   "cell_type": "markdown",
   "metadata": {},
   "source": [
    "Let's define the upper confidence bound acquisition function for the bayesian optimisation part."
   ]
  },
  {
   "cell_type": "code",
   "execution_count": 6,
   "metadata": {},
   "outputs": [],
   "source": [
    "def UCB(mu_map,kappa,sigma_map):\n",
    "\tGP = []\n",
    "\tfor i in range(0,len(mu_map)):\n",
    "\t\tGP.append(mu_map[i] + kappa*sigma_map[i])\n",
    "\treturn np.argmax(GP)"
   ]
  },
  {
   "cell_type": "markdown",
   "metadata": {},
   "source": [
    "Add the predicted difference to the data in order to recover the predicted mean (and not the difference)"
   ]
  },
  {
   "cell_type": "code",
   "execution_count": 7,
   "metadata": {},
   "outputs": [],
   "source": [
    "for j in range(0,len(n_fits_real)):\n",
    "    n_fits_real[j] = means[j] + n_fits[j]"
   ]
  },
  {
   "cell_type": "markdown",
   "metadata": {},
   "source": [
    "Now let's use the UCB function to choose the next controller to test"
   ]
  },
  {
   "cell_type": "code",
   "execution_count": 8,
   "metadata": {},
   "outputs": [],
   "source": [
    "next_it = UCB(n_fits_real,kappa,variances)"
   ]
  },
  {
   "cell_type": "code",
   "execution_count": 9,
   "metadata": {},
   "outputs": [
    {
     "name": "stdout",
     "output_type": "stream",
     "text": [
      "129\n",
      "[4.5515657]\n",
      "[4.55414197]\n",
      "[0.25442056 0.50770486 0.28526394 0.31414752 0.01832532 0.51750237\n",
      " 0.65393484 0.33415057 0.63933978 0.09348094 0.43709739 0.36617698\n",
      " 0.36896755 0.18458346 0.1368122  0.25425081]\n"
     ]
    }
   ],
   "source": [
    "print(next_it)\n",
    "print(n_fits_real[next_it])\n",
    "print(n_fits[next_it])\n",
    "print(n_descs_real[next_it])"
   ]
  },
  {
   "cell_type": "markdown",
   "metadata": {},
   "source": [
    "Let's plot the data"
   ]
  },
  {
   "cell_type": "code",
   "execution_count": 10,
   "metadata": {},
   "outputs": [],
   "source": [
    "import matplotlib.pyplot as plt\n",
    "import numpy as np\n",
    "def plot_mu_sigma(mu_map, sigma_map):\n",
    "\t# Visualize the result\n",
    "\tle = len(mu_map)\n",
    "\ttmp = mu_map.reshape((le,))\n",
    "\n",
    "\ttmp_sampled = []\n",
    "\tsigma_sampled = []\n",
    "\tfor i in range(0,le):\n",
    "\t\tif(i%50==0):\n",
    "\t\t\ttmp_sampled.append(tmp[i])\n",
    "\t\t\tsigma_sampled.append(sigma_map[i][0])\n",
    "\ttmp_sampled = np.array(tmp_sampled)\n",
    "\tsigma_sampled = np.array(sigma_sampled)\n",
    "\tplt.plot(range(0,len(tmp_sampled)), tmp_sampled, 'or')\n",
    "\tplt.fill_between(range(0,len(tmp_sampled)), tmp_sampled-sigma_sampled, tmp_sampled+sigma_sampled, color='gray', alpha=0.2)\n",
    "\tplt.show()"
   ]
  },
  {
   "cell_type": "code",
   "execution_count": 11,
   "metadata": {},
   "outputs": [
    {
     "data": {
      "image/png": "[encoded data removed]",
      "text/plain": [
       "<Figure size 432x288 with 1 Axes>"
      ]
     },
     "metadata": {
      "needs_background": "light"
     },
     "output_type": "display_data"
    }
   ],
   "source": [
    "plot_mu_sigma(n_fits_real, variances)"
   ]
  },
  {
   "cell_type": "markdown",
   "metadata": {},
   "source": [
    "We can then iterate again the process, UCB has found the next controller to test. We can test it and append to X and Y the newly collected data. You can run the following section a few times to see the output"
   ]
  },
  {
   "cell_type": "code",
   "execution_count": 23,
   "metadata": {},
   "outputs": [],
   "source": [
    "X = np.vstack((X,n_descs[next_it]))"
   ]
  },
  {
   "cell_type": "code",
   "execution_count": 24,
   "metadata": {},
   "outputs": [
    {
     "data": {
      "text/plain": [
       "array([[0.43381277, 0.55927822, 0.76736456, 0.33795371, 0.38497982,\n",
       "        0.68528519, 0.30302539, 0.57688192, 0.04922116, 0.75057151,\n",
       "        0.79550695, 1.        , 0.67530292, 0.86127359, 0.58909014,\n",
       "        0.91480904],\n",
       "       [0.25442056, 0.50770486, 0.28526394, 0.31414752, 0.01832532,\n",
       "        0.51750237, 0.65393484, 0.33415057, 0.63933978, 0.09348094,\n",
       "        0.43709739, 0.36617698, 0.36896755, 0.18458346, 0.1368122 ,\n",
       "        0.25425081],\n",
       "       [0.47237191, 0.17852552, 0.530066  , 0.35377839, 0.57377196,\n",
       "        0.04835711, 0.32654132, 0.32640184, 0.49451115, 0.49927289,\n",
       "        0.12199267, 0.23384406, 0.10653204, 0.3299778 , 0.01398947,\n",
       "        0.04072041]])"
      ]
     },
     "execution_count": 24,
     "metadata": {},
     "output_type": "execute_result"
    }
   ],
   "source": [
    "X"
   ]
  },
  {
   "cell_type": "code",
   "execution_count": 25,
   "metadata": {},
   "outputs": [],
   "source": [
    "Y = np.vstack((Y,-np.random.rand(1)*3-0.5))"
   ]
  },
  {
   "cell_type": "code",
   "execution_count": 26,
   "metadata": {},
   "outputs": [
    {
     "data": {
      "text/plain": [
       "array([[-2.32947412],\n",
       "       [-2.96520064],\n",
       "       [-2.18653774]])"
      ]
     },
     "execution_count": 26,
     "metadata": {},
     "output_type": "execute_result"
    }
   ],
   "source": [
    "Y"
   ]
  },
  {
   "cell_type": "code",
   "execution_count": 27,
   "metadata": {},
   "outputs": [],
   "source": [
    "ker = GPy.kern.Matern52(dim_x,lengthscale = rho, ARD=False) + GPy.kern.White(dim_x,np.sqrt(variance_noise_square))\n",
    "m = GPy.models.GPRegression(X,Y,ker)"
   ]
  },
  {
   "cell_type": "code",
   "execution_count": 28,
   "metadata": {},
   "outputs": [],
   "source": [
    "means, variances = m.predict(n_descs)"
   ]
  },
  {
   "cell_type": "code",
   "execution_count": 29,
   "metadata": {},
   "outputs": [],
   "source": [
    "for j in range(0,len(n_fits_real)):\n",
    "    n_fits_real[j] = means[j] + n_fits[j]"
   ]
  },
  {
   "cell_type": "code",
   "execution_count": 30,
   "metadata": {},
   "outputs": [],
   "source": [
    "next_it = UCB(n_fits_real,kappa,variances)"
   ]
  },
  {
   "cell_type": "code",
   "execution_count": 31,
   "metadata": {},
   "outputs": [
    {
     "name": "stdout",
     "output_type": "stream",
     "text": [
      "68\n",
      "[4.06055006]\n",
      "[4.23513462]\n",
      "[0.49655943 0.35760756 0.46881496 0.48793854 0.61058478 0.24034377\n",
      " 0.38804504 0.40812625 0.08271557 0.61146816 0.4534585  0.16888734\n",
      " 0.04403967 0.36911773 0.51782524 0.04198885]\n"
     ]
    }
   ],
   "source": [
    "print(next_it)\n",
    "print(n_fits_real[next_it])\n",
    "print(n_fits[next_it])\n",
    "print(n_descs_real[next_it])"
   ]
  },
  {
   "cell_type": "code",
   "execution_count": 32,
   "metadata": {},
   "outputs": [
    {
     "data": {
      "image/png": "[encoded data removed]",
      "text/plain": [
       "<Figure size 432x288 with 1 Axes>"
      ]
     },
     "metadata": {
      "needs_background": "light"
     },
     "output_type": "display_data"
    }
   ],
   "source": [
    "plot_mu_sigma(n_fits_real, variances)"
   ]
  },
  {
   "cell_type": "code",
   "execution_count": 33,
   "metadata": {},
   "outputs": [
    {
     "data": {
      "image/png": "[encoded data removed]",
      "text/plain": [
       "<Figure size 432x288 with 1 Axes>"
      ]
     },
     "metadata": {
      "needs_background": "light"
     },
     "output_type": "display_data"
    }
   ],
   "source": [
    "x = range(0,len(n_descs))\n",
    "y = copy(means)\n",
    "e = copy(variances)\n",
    "plt.plot(x, y,'b+')\n",
    "plt.show()"
   ]
  },
  {
   "cell_type": "markdown",
   "metadata": {},
   "source": [
    "This is the processed used to run IT&E"
   ]
  },
  {
   "cell_type": "code",
   "execution_count": null,
   "metadata": {},
   "outputs": [],
   "source": []
  },
  {
   "cell_type": "code",
   "execution_count": null,
   "metadata": {},
   "outputs": [],
   "source": []
  }
 ],
 "metadata": {
  "kernelspec": {
   "display_name": "Python 3",
   "language": "python",
   "name": "python3"
  },
  "language_info": {
   "codemirror_mode": {
    "name": "ipython",
    "version": 3
   },
   "file_extension": ".py",
   "mimetype": "text/x-python",
   "name": "python",
   "nbconvert_exporter": "python",
   "pygments_lexer": "ipython3",
   "version": "3.6.7"
  }
 },
 "nbformat": 4,
 "nbformat_minor": 2
}
